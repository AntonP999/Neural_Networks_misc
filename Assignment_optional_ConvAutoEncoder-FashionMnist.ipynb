{
 "cells": [
  {
   "cell_type": "code",
   "execution_count": 1,
   "metadata": {},
   "outputs": [
    {
     "name": "stderr",
     "output_type": "stream",
     "text": [
      "D:\\Programs\\Anaconda3\\lib\\site-packages\\h5py\\__init__.py:36: FutureWarning: Conversion of the second argument of issubdtype from `float` to `np.floating` is deprecated. In future, it will be treated as `np.float64 == np.dtype(float).type`.\n",
      "  from ._conv import register_converters as _register_converters\n",
      "Using TensorFlow backend.\n"
     ]
    }
   ],
   "source": [
    "import keras\n",
    "from keras.layers import Input, Dense, Conv2D, Conv2DTranspose, SeparableConv2D, MaxPooling2D, UpSampling2D, BatchNormalization, ReLU, SpatialDropout2D, Flatten\n",
    "from keras.models import Model\n",
    "from keras import backend as K\n",
    "from keras.datasets import fashion_mnist\n",
    "\n",
    "import matplotlib.pyplot as plt\n",
    "%matplotlib inline"
   ]
  },
  {
   "cell_type": "markdown",
   "metadata": {},
   "source": [
    "Создание сверточного автокодировщика для данных Fashion MNIST"
   ]
  },
  {
   "cell_type": "code",
   "execution_count": 27,
   "metadata": {},
   "outputs": [],
   "source": [
    "(x_train, y_train), (x_test, y_test) = fashion_mnist.load_data()"
   ]
  },
  {
   "cell_type": "code",
   "execution_count": 28,
   "metadata": {},
   "outputs": [],
   "source": [
    "x_train = x_train.astype('float32') / 255.\n",
    "x_test = x_test.astype('float32') / 255."
   ]
  },
  {
   "cell_type": "code",
   "execution_count": 18,
   "metadata": {},
   "outputs": [
    {
     "data": {
      "text/plain": [
       "(60000, 28, 28)"
      ]
     },
     "execution_count": 18,
     "metadata": {},
     "output_type": "execute_result"
    }
   ],
   "source": [
    "x_train.shape"
   ]
  },
  {
   "cell_type": "markdown",
   "metadata": {},
   "source": [
    "Проверка корректности загрузки датасета."
   ]
  },
  {
   "cell_type": "code",
   "execution_count": 20,
   "metadata": {},
   "outputs": [
    {
     "data": {
      "image/png": "[encoded data removed]",
      "text/plain": [
       "<Figure size 1296x576 with 15 Axes>"
      ]
     },
     "metadata": {},
     "output_type": "display_data"
    }
   ],
   "source": [
    "n = 15\n",
    "plt.figure(figsize=(18,8))\n",
    "\n",
    "for i in range(n):\n",
    "    ax = plt.subplot(2, n, i + 1)\n",
    "    plt.imshow(x_train[i], cmap=\"Greys\")    \n",
    "    ax.get_xaxis().set_visible(False)\n",
    "    ax.get_yaxis().set_visible(False)\n",
    "    \n",
    "plt.show()"
   ]
  },
  {
   "cell_type": "markdown",
   "metadata": {},
   "source": [
    "Выделение набора для валидации."
   ]
  },
  {
   "cell_type": "code",
   "execution_count": 33,
   "metadata": {},
   "outputs": [],
   "source": [
    "x_train = x_train.reshape(-1,28,28,1)\n",
    "x_test = x_test.reshape(-1,28,28,1)"
   ]
  },
  {
   "cell_type": "code",
   "execution_count": 34,
   "metadata": {},
   "outputs": [],
   "source": [
    "x_valid = x_train[-10000:]\n",
    "x_train = x_train[:-10000]\n",
    "y_valid = y_train[-10000:]\n",
    "y_train = y_train[:-10000]"
   ]
  },
  {
   "cell_type": "markdown",
   "metadata": {},
   "source": [
    "Создание модели без регуляризации. Такая последовательность слоев с количеством нейронов показала лучший результат среди испытанных. Изначально сделал попытку натренировать сверточный классификатор и использовать его часть без выходного слоя как encoder (с замороженными весами). Оказалось, это привело к несколько худшему результату. Поэтому стал обучать обе части автокодировщика (encoder и decoder) одновременно."
   ]
  },
  {
   "cell_type": "code",
   "execution_count": 22,
   "metadata": {
    "scrolled": true
   },
   "outputs": [],
   "source": [
    "keras.backend.clear_session()\n",
    "\n",
    "inp = Input(shape=(28,28,1))\n",
    "x = Conv2D(64, (3, 3), padding='same')(inp)\n",
    "x = ReLU()(x)\n",
    "x = MaxPooling2D((2, 2), padding='same')(x)\n",
    "x = Conv2D(128, (3, 3), padding='same')(x)\n",
    "x = ReLU()(x)\n",
    "x = MaxPooling2D((2, 2), padding='same')(x)\n",
    "x = Conv2D(256, (3, 3), padding='same')(x)\n",
    "x = ReLU()(x)\n",
    "encoded = MaxPooling2D((2, 2), padding='same')(x)\n",
    "encoder = Model(inp, encoded)\n",
    "\n",
    "encoder_inp = Input(shape=(28,28,1))\n",
    "encoder_out = encoder(encoder_inp)\n",
    "x = Conv2DTranspose(256, (3, 3), strides=(2, 2), padding=\"same\")(encoder_out)\n",
    "x = ReLU()(x)\n",
    "x = Conv2DTranspose(128, (3, 3), strides=(2, 2), padding='same')(x)\n",
    "x = ReLU()(x)\n",
    "x = Conv2D(128, (3, 3), activation='relu')(x)\n",
    "x = Conv2DTranspose(64, (3, 3), strides=(2, 2), padding='same')(x)\n",
    "x = ReLU()(x)\n",
    "decoded = Conv2DTranspose(1, (3, 3), activation='sigmoid', padding='same')(x)\n",
    "\n",
    "autoencoder = Model(encoder_inp, decoded)\n",
    "\n",
    "#H = (H1 - 1)*stride + HF - 2*padding\n",
    "#H - height of output image i.e H = 28 \n",
    "#H1 - height of input image i.e H1 = 7 \n",
    "#HF - height of filter \n",
    "\n",
    "#16 -> 28"
   ]
  },
  {
   "cell_type": "code",
   "execution_count": 24,
   "metadata": {},
   "outputs": [
    {
     "name": "stdout",
     "output_type": "stream",
     "text": [
      "_________________________________________________________________\n",
      "Layer (type)                 Output Shape              Param #   \n",
      "=================================================================\n",
      "input_2 (InputLayer)         (None, 28, 28, 1)         0         \n",
      "_________________________________________________________________\n",
      "model_1 (Model)              (None, 4, 4, 256)         369664    \n",
      "_________________________________________________________________\n",
      "conv2d_transpose_1 (Conv2DTr (None, 8, 8, 256)         590080    \n",
      "_________________________________________________________________\n",
      "re_lu_4 (ReLU)               (None, 8, 8, 256)         0         \n",
      "_________________________________________________________________\n",
      "conv2d_transpose_2 (Conv2DTr (None, 16, 16, 128)       295040    \n",
      "_________________________________________________________________\n",
      "re_lu_5 (ReLU)               (None, 16, 16, 128)       0         \n",
      "_________________________________________________________________\n",
      "conv2d_4 (Conv2D)            (None, 14, 14, 128)       147584    \n",
      "_________________________________________________________________\n",
      "conv2d_transpose_3 (Conv2DTr (None, 28, 28, 64)        73792     \n",
      "_________________________________________________________________\n",
      "re_lu_6 (ReLU)               (None, 28, 28, 64)        0         \n",
      "_________________________________________________________________\n",
      "conv2d_transpose_4 (Conv2DTr (None, 28, 28, 1)         577       \n",
      "=================================================================\n",
      "Total params: 1,476,737\n",
      "Trainable params: 1,476,737\n",
      "Non-trainable params: 0\n",
      "_________________________________________________________________\n"
     ]
    }
   ],
   "source": [
    "autoencoder.summary()"
   ]
  },
  {
   "cell_type": "markdown",
   "metadata": {},
   "source": [
    "Поэкспериментировал с lr(1е-1 - 1e-4). "
   ]
  },
  {
   "cell_type": "code",
   "execution_count": 25,
   "metadata": {},
   "outputs": [],
   "source": [
    "opt = keras.optimizers.Adam(lr=1e-3, decay=1e-4, amsgrad=True)\n",
    "autoencoder.compile(optimizer=opt, loss='binary_crossentropy')"
   ]
  },
  {
   "cell_type": "code",
   "execution_count": 35,
   "metadata": {},
   "outputs": [
    {
     "name": "stdout",
     "output_type": "stream",
     "text": [
      "Train on 30000 samples, validate on 10000 samples\n",
      "Epoch 1/300\n",
      "30000/30000 [==============================] - 28s 948us/step - loss: 0.3274 - val_loss: 0.2768\n",
      "Epoch 2/300\n",
      "30000/30000 [==============================] - 24s 794us/step - loss: 0.2716 - val_loss: 0.2667\n",
      "Epoch 3/300\n",
      "30000/30000 [==============================] - 24s 795us/step - loss: 0.2643 - val_loss: 0.2620\n",
      "Epoch 4/300\n",
      "30000/30000 [==============================] - 24s 796us/step - loss: 0.2607 - val_loss: 0.2592\n",
      "Epoch 5/300\n",
      "30000/30000 [==============================] - 24s 792us/step - loss: 0.2586 - val_loss: 0.2581\n",
      "Epoch 6/300\n",
      "30000/30000 [==============================] - 24s 794us/step - loss: 0.2571 - val_loss: 0.2559\n",
      "Epoch 7/300\n",
      "30000/30000 [==============================] - 24s 795us/step - loss: 0.2562 - val_loss: 0.2549\n",
      "Epoch 8/300\n",
      "30000/30000 [==============================] - 24s 795us/step - loss: 0.2553 - val_loss: 0.2543\n",
      "Epoch 9/300\n",
      "30000/30000 [==============================] - 24s 795us/step - loss: 0.2545 - val_loss: 0.2537\n",
      "Epoch 10/300\n",
      "30000/30000 [==============================] - 24s 795us/step - loss: 0.2539 - val_loss: 0.2531\n",
      "Epoch 11/300\n",
      "30000/30000 [==============================] - 24s 796us/step - loss: 0.2534 - val_loss: 0.2532\n",
      "Epoch 12/300\n",
      "30000/30000 [==============================] - 24s 796us/step - loss: 0.2529 - val_loss: 0.2522\n",
      "Epoch 13/300\n",
      "30000/30000 [==============================] - 24s 796us/step - loss: 0.2525 - val_loss: 0.2523\n",
      "Epoch 14/300\n",
      "30000/30000 [==============================] - 24s 796us/step - loss: 0.2521 - val_loss: 0.2518\n",
      "Epoch 15/300\n",
      "30000/30000 [==============================] - 24s 796us/step - loss: 0.2517 - val_loss: 0.2512\n",
      "Epoch 16/300\n",
      "30000/30000 [==============================] - 24s 797us/step - loss: 0.2515 - val_loss: 0.2512\n",
      "Epoch 17/300\n",
      "30000/30000 [==============================] - 24s 796us/step - loss: 0.2512 - val_loss: 0.2508\n",
      "Epoch 18/300\n",
      "30000/30000 [==============================] - 24s 797us/step - loss: 0.2510 - val_loss: 0.2505\n",
      "Epoch 19/300\n",
      "30000/30000 [==============================] - 24s 797us/step - loss: 0.2508 - val_loss: 0.2508\n",
      "Epoch 20/300\n",
      "30000/30000 [==============================] - 24s 796us/step - loss: 0.2505 - val_loss: 0.2501\n",
      "Epoch 21/300\n",
      "30000/30000 [==============================] - 24s 797us/step - loss: 0.2502 - val_loss: 0.2500\n",
      "Epoch 22/300\n",
      "30000/30000 [==============================] - 24s 798us/step - loss: 0.2502 - val_loss: 0.2498\n",
      "Epoch 23/300\n",
      "30000/30000 [==============================] - 24s 797us/step - loss: 0.2499 - val_loss: 0.2499\n",
      "Epoch 24/300\n",
      "30000/30000 [==============================] - 24s 797us/step - loss: 0.2498 - val_loss: 0.2496\n",
      "Epoch 25/300\n",
      "30000/30000 [==============================] - 24s 798us/step - loss: 0.2496 - val_loss: 0.2494\n",
      "Epoch 26/300\n",
      "30000/30000 [==============================] - 24s 798us/step - loss: 0.2495 - val_loss: 0.2493\n",
      "Epoch 27/300\n",
      "30000/30000 [==============================] - 24s 799us/step - loss: 0.2493 - val_loss: 0.2493\n",
      "Epoch 28/300\n",
      "30000/30000 [==============================] - 24s 798us/step - loss: 0.2492 - val_loss: 0.2490\n",
      "Epoch 29/300\n",
      "30000/30000 [==============================] - 24s 798us/step - loss: 0.2491 - val_loss: 0.2490\n",
      "Epoch 30/300\n",
      "30000/30000 [==============================] - 24s 798us/step - loss: 0.2490 - val_loss: 0.2490\n",
      "Epoch 31/300\n",
      "30000/30000 [==============================] - 24s 798us/step - loss: 0.2489 - val_loss: 0.2488\n",
      "Epoch 32/300\n",
      "30000/30000 [==============================] - 24s 798us/step - loss: 0.2488 - val_loss: 0.2487\n",
      "Epoch 33/300\n",
      "30000/30000 [==============================] - 24s 799us/step - loss: 0.2487 - val_loss: 0.2486\n",
      "Epoch 34/300\n",
      "30000/30000 [==============================] - 24s 798us/step - loss: 0.2486 - val_loss: 0.2485\n",
      "Epoch 35/300\n",
      "30000/30000 [==============================] - 24s 798us/step - loss: 0.2485 - val_loss: 0.2485\n",
      "Epoch 36/300\n",
      "30000/30000 [==============================] - 24s 798us/step - loss: 0.2484 - val_loss: 0.2485\n",
      "Epoch 37/300\n",
      "30000/30000 [==============================] - 24s 798us/step - loss: 0.2483 - val_loss: 0.2483\n",
      "Epoch 38/300\n",
      "30000/30000 [==============================] - 24s 798us/step - loss: 0.2482 - val_loss: 0.2483\n",
      "Epoch 39/300\n",
      "30000/30000 [==============================] - 24s 799us/step - loss: 0.2482 - val_loss: 0.2482\n",
      "Epoch 40/300\n",
      "30000/30000 [==============================] - 24s 798us/step - loss: 0.2481 - val_loss: 0.2481\n",
      "Epoch 41/300\n",
      "30000/30000 [==============================] - 24s 798us/step - loss: 0.2480 - val_loss: 0.2483\n",
      "Epoch 42/300\n",
      "30000/30000 [==============================] - 24s 798us/step - loss: 0.2480 - val_loss: 0.2480\n",
      "Epoch 43/300\n",
      "30000/30000 [==============================] - 24s 798us/step - loss: 0.2479 - val_loss: 0.2479\n",
      "Epoch 44/300\n",
      "30000/30000 [==============================] - 24s 798us/step - loss: 0.2478 - val_loss: 0.2479\n",
      "Epoch 45/300\n",
      "30000/30000 [==============================] - 24s 798us/step - loss: 0.2478 - val_loss: 0.2478\n",
      "Epoch 46/300\n",
      "30000/30000 [==============================] - 24s 799us/step - loss: 0.2477 - val_loss: 0.2479\n",
      "Epoch 47/300\n",
      "30000/30000 [==============================] - 24s 798us/step - loss: 0.2477 - val_loss: 0.2477\n",
      "Epoch 48/300\n",
      "30000/30000 [==============================] - 24s 797us/step - loss: 0.2476 - val_loss: 0.2477\n",
      "Epoch 49/300\n",
      "30000/30000 [==============================] - 24s 798us/step - loss: 0.2476 - val_loss: 0.2476\n",
      "Epoch 50/300\n",
      "30000/30000 [==============================] - 24s 798us/step - loss: 0.2475 - val_loss: 0.2477\n",
      "Epoch 51/300\n",
      "30000/30000 [==============================] - 24s 798us/step - loss: 0.2475 - val_loss: 0.2477\n",
      "Epoch 52/300\n",
      "30000/30000 [==============================] - 24s 798us/step - loss: 0.2474 - val_loss: 0.2475\n",
      "Epoch 53/300\n",
      "30000/30000 [==============================] - 24s 808us/step - loss: 0.2474 - val_loss: 0.2475\n",
      "Epoch 54/300\n",
      "30000/30000 [==============================] - 24s 795us/step - loss: 0.2473 - val_loss: 0.2475\n",
      "Epoch 55/300\n",
      "30000/30000 [==============================] - 24s 795us/step - loss: 0.2473 - val_loss: 0.2475\n",
      "Epoch 56/300\n",
      "30000/30000 [==============================] - 24s 795us/step - loss: 0.2472 - val_loss: 0.2475\n",
      "Epoch 57/300\n",
      "30000/30000 [==============================] - 24s 794us/step - loss: 0.2472 - val_loss: 0.2474\n",
      "Epoch 58/300\n",
      "30000/30000 [==============================] - 24s 795us/step - loss: 0.2471 - val_loss: 0.2474\n",
      "Epoch 59/300\n",
      "30000/30000 [==============================] - 24s 795us/step - loss: 0.2471 - val_loss: 0.2473\n",
      "Epoch 60/300\n",
      "30000/30000 [==============================] - 24s 803us/step - loss: 0.2471 - val_loss: 0.2473\n",
      "Epoch 61/300\n",
      "30000/30000 [==============================] - 24s 791us/step - loss: 0.2470 - val_loss: 0.2472\n",
      "Epoch 62/300\n",
      "30000/30000 [==============================] - 24s 792us/step - loss: 0.2470 - val_loss: 0.2472\n",
      "Epoch 63/300\n",
      "30000/30000 [==============================] - 24s 794us/step - loss: 0.2469 - val_loss: 0.2472\n",
      "Epoch 64/300\n",
      "30000/30000 [==============================] - 24s 788us/step - loss: 0.2469 - val_loss: 0.2471\n",
      "Epoch 65/300\n",
      "30000/30000 [==============================] - 24s 798us/step - loss: 0.2469 - val_loss: 0.2471\n",
      "Epoch 66/300\n",
      "30000/30000 [==============================] - 24s 796us/step - loss: 0.2469 - val_loss: 0.2471\n",
      "Epoch 67/300\n",
      "30000/30000 [==============================] - 24s 796us/step - loss: 0.2468 - val_loss: 0.2470\n",
      "Epoch 68/300\n",
      "30000/30000 [==============================] - 24s 796us/step - loss: 0.2468 - val_loss: 0.2470\n",
      "Epoch 69/300\n",
      "30000/30000 [==============================] - 24s 809us/step - loss: 0.2467 - val_loss: 0.2470\n",
      "Epoch 70/300\n",
      "30000/30000 [==============================] - 24s 795us/step - loss: 0.2467 - val_loss: 0.2469\n",
      "Epoch 71/300\n",
      "30000/30000 [==============================] - 24s 795us/step - loss: 0.2467 - val_loss: 0.2469\n",
      "Epoch 72/300\n",
      "30000/30000 [==============================] - 24s 795us/step - loss: 0.2467 - val_loss: 0.2469\n",
      "Epoch 73/300\n",
      "30000/30000 [==============================] - 24s 795us/step - loss: 0.2466 - val_loss: 0.2469\n",
      "Epoch 74/300\n",
      "30000/30000 [==============================] - 24s 796us/step - loss: 0.2466 - val_loss: 0.2469\n",
      "Epoch 75/300\n",
      "30000/30000 [==============================] - 24s 795us/step - loss: 0.2466 - val_loss: 0.2469\n"
     ]
    },
    {
     "name": "stdout",
     "output_type": "stream",
     "text": [
      "Epoch 76/300\n",
      "30000/30000 [==============================] - 24s 791us/step - loss: 0.2466 - val_loss: 0.2469\n",
      "Epoch 77/300\n",
      "30000/30000 [==============================] - 24s 791us/step - loss: 0.2465 - val_loss: 0.2468\n",
      "Epoch 78/300\n",
      "30000/30000 [==============================] - 24s 792us/step - loss: 0.2465 - val_loss: 0.2468\n",
      "Epoch 79/300\n",
      "30000/30000 [==============================] - 24s 791us/step - loss: 0.2465 - val_loss: 0.2468\n",
      "Epoch 80/300\n",
      "30000/30000 [==============================] - 24s 791us/step - loss: 0.2465 - val_loss: 0.2467\n",
      "Epoch 81/300\n",
      "30000/30000 [==============================] - 24s 791us/step - loss: 0.2464 - val_loss: 0.2467\n",
      "Epoch 82/300\n",
      "30000/30000 [==============================] - 24s 791us/step - loss: 0.2464 - val_loss: 0.2467\n",
      "Epoch 83/300\n",
      "30000/30000 [==============================] - 24s 790us/step - loss: 0.2464 - val_loss: 0.2467\n"
     ]
    }
   ],
   "source": [
    "early_stopper = keras.callbacks.EarlyStopping(monitor='val_loss', \n",
    "                                              min_delta=0.001, \n",
    "                                              patience=30, \n",
    "                                              verbose=0, \n",
    "                                              mode='auto', \n",
    "                                              restore_best_weights=True)\n",
    "history = autoencoder.fit(x_train, x_train,\n",
    "                  epochs=300,\n",
    "                  batch_size=128,\n",
    "                  shuffle=True,\n",
    "                  validation_data=(x_valid, x_valid),\n",
    "                  callbacks=[early_stopper]\n",
    "                  )"
   ]
  },
  {
   "cell_type": "markdown",
   "metadata": {},
   "source": [
    "В целом, ошибка снижается довольно плавно."
   ]
  },
  {
   "cell_type": "code",
   "execution_count": 36,
   "metadata": {},
   "outputs": [
    {
     "data": {
      "image/png": "[encoded data removed]",
      "text/plain": [
       "<Figure size 432x288 with 1 Axes>"
      ]
     },
     "metadata": {},
     "output_type": "display_data"
    }
   ],
   "source": [
    "plt.plot(history.history[\"loss\"], label=\"loss\")\n",
    "plt.plot(history.history[\"val_loss\"], label=\"val_loss\")\n",
    "plt.legend()\n",
    "plt.show()"
   ]
  },
  {
   "cell_type": "code",
   "execution_count": 37,
   "metadata": {},
   "outputs": [],
   "source": [
    "autoencoder.save_weights(\"autoencoder_weights.h5\")"
   ]
  },
  {
   "cell_type": "code",
   "execution_count": 38,
   "metadata": {},
   "outputs": [],
   "source": [
    "decoded_imgs = autoencoder.predict(x_test)"
   ]
  },
  {
   "cell_type": "code",
   "execution_count": 39,
   "metadata": {},
   "outputs": [
    {
     "data": {
      "text/plain": [
       "(10000, 28, 28)"
      ]
     },
     "execution_count": 39,
     "metadata": {},
     "output_type": "execute_result"
    }
   ],
   "source": [
    "decoded_imgs = decoded_imgs.reshape(-1, 28, 28)\n",
    "decoded_imgs.shape"
   ]
  },
  {
   "cell_type": "markdown",
   "metadata": {},
   "source": [
    "Вывод результата работы автокодировщика на тестовом сете. Картинки довольно размыты."
   ]
  },
  {
   "cell_type": "code",
   "execution_count": 40,
   "metadata": {},
   "outputs": [
    {
     "data": {
      "image/png": "[encoded data removed]",
      "text/plain": [
       "<Figure size 1296x144 with 30 Axes>"
      ]
     },
     "metadata": {},
     "output_type": "display_data"
    }
   ],
   "source": [
    "n = 15\n",
    "plt.figure(figsize=(18,2))\n",
    "\n",
    "for i in range(n):\n",
    "    ax = plt.subplot(2, n, i+1)\n",
    "    plt.imshow(x_test[i].reshape(28, 28), cmap=\"Greys\")    \n",
    "    ax.get_xaxis().set_visible(False)\n",
    "    ax.get_yaxis().set_visible(False)\n",
    "    \n",
    "    ax = plt.subplot(2, n, i + n+1)\n",
    "    plt.imshow(decoded_imgs[i], cmap=\"Greys\")    \n",
    "    ax.get_xaxis().set_visible(False)\n",
    "    ax.get_yaxis().set_visible(False)\n",
    "\n",
    "plt.show()"
   ]
  },
  {
   "cell_type": "markdown",
   "metadata": {},
   "source": [
    "Создание автокодировщика с нормализацией."
   ]
  },
  {
   "cell_type": "code",
   "execution_count": 41,
   "metadata": {},
   "outputs": [],
   "source": [
    "keras.backend.clear_session()\n",
    "\n",
    "inp = Input(shape=(28,28,1))\n",
    "x = Conv2D(64, (3, 3), padding='same')(inp)\n",
    "x = ReLU()(x)\n",
    "x = MaxPooling2D((2, 2), padding='same')(x)\n",
    "x = Conv2D(128, (3, 3), padding='same')(x)\n",
    "x = ReLU()(x)\n",
    "x = BatchNormalization(center=False, scale=False)(x)\n",
    "x = MaxPooling2D((2, 2), padding='same')(x)\n",
    "x = Conv2D(256, (3, 3), padding='same')(x)\n",
    "x = ReLU()(x)\n",
    "x = BatchNormalization(center=False, scale=False)(x)\n",
    "encoded = MaxPooling2D((2, 2), padding='same')(x)\n",
    "encoder = Model(inp, encoded)\n",
    "\n",
    "encoder_inp = Input(shape=(28,28,1))\n",
    "encoder_out = encoder(encoder_inp)\n",
    "x = Conv2DTranspose(256, (3, 3), strides=(2, 2), padding=\"same\")(encoder_out)\n",
    "x = ReLU()(x)\n",
    "x = BatchNormalization(center=False, scale=False)(x)\n",
    "x = Conv2DTranspose(128, (3, 3), strides=(2, 2), padding='same')(x)\n",
    "x = ReLU()(x)\n",
    "x = BatchNormalization(center=False, scale=False)(x)\n",
    "x = Conv2D(128, (3, 3), activation='relu')(x)\n",
    "x = BatchNormalization(center=False, scale=False)(x)\n",
    "x = Conv2DTranspose(64, (3, 3), strides=(2, 2), padding='same')(x)\n",
    "x = ReLU()(x)\n",
    "x = BatchNormalization(center=False, scale=False)(x)\n",
    "decoded = Conv2DTranspose(1, (3, 3), activation='sigmoid', padding='same')(x)\n",
    "\n",
    "autoencoder = Model(encoder_inp, decoded)"
   ]
  },
  {
   "cell_type": "code",
   "execution_count": 42,
   "metadata": {},
   "outputs": [
    {
     "name": "stdout",
     "output_type": "stream",
     "text": [
      "_________________________________________________________________\n",
      "Layer (type)                 Output Shape              Param #   \n",
      "=================================================================\n",
      "input_2 (InputLayer)         (None, 28, 28, 1)         0         \n",
      "_________________________________________________________________\n",
      "model_1 (Model)              (None, 4, 4, 256)         370432    \n",
      "_________________________________________________________________\n",
      "conv2d_transpose_1 (Conv2DTr (None, 8, 8, 256)         590080    \n",
      "_________________________________________________________________\n",
      "re_lu_4 (ReLU)               (None, 8, 8, 256)         0         \n",
      "_________________________________________________________________\n",
      "batch_normalization_3 (Batch (None, 8, 8, 256)         512       \n",
      "_________________________________________________________________\n",
      "conv2d_transpose_2 (Conv2DTr (None, 16, 16, 128)       295040    \n",
      "_________________________________________________________________\n",
      "re_lu_5 (ReLU)               (None, 16, 16, 128)       0         \n",
      "_________________________________________________________________\n",
      "batch_normalization_4 (Batch (None, 16, 16, 128)       256       \n",
      "_________________________________________________________________\n",
      "conv2d_4 (Conv2D)            (None, 14, 14, 128)       147584    \n",
      "_________________________________________________________________\n",
      "batch_normalization_5 (Batch (None, 14, 14, 128)       256       \n",
      "_________________________________________________________________\n",
      "conv2d_transpose_3 (Conv2DTr (None, 28, 28, 64)        73792     \n",
      "_________________________________________________________________\n",
      "re_lu_6 (ReLU)               (None, 28, 28, 64)        0         \n",
      "_________________________________________________________________\n",
      "batch_normalization_6 (Batch (None, 28, 28, 64)        128       \n",
      "_________________________________________________________________\n",
      "conv2d_transpose_4 (Conv2DTr (None, 28, 28, 1)         577       \n",
      "=================================================================\n",
      "Total params: 1,478,657\n",
      "Trainable params: 1,476,737\n",
      "Non-trainable params: 1,920\n",
      "_________________________________________________________________\n"
     ]
    }
   ],
   "source": [
    "autoencoder.summary()"
   ]
  },
  {
   "cell_type": "code",
   "execution_count": 43,
   "metadata": {},
   "outputs": [],
   "source": [
    "opt = keras.optimizers.Adam(lr=1e-3, amsgrad=True)\n",
    "autoencoder.compile(optimizer=opt, loss='binary_crossentropy')"
   ]
  },
  {
   "cell_type": "code",
   "execution_count": 44,
   "metadata": {},
   "outputs": [
    {
     "name": "stdout",
     "output_type": "stream",
     "text": [
      "Train on 30000 samples, validate on 10000 samples\n",
      "Epoch 1/300\n",
      "30000/30000 [==============================] - 28s 941us/step - loss: 0.2923 - val_loss: 0.2678\n",
      "Epoch 2/300\n",
      "30000/30000 [==============================] - 27s 915us/step - loss: 0.2604 - val_loss: 0.2580\n",
      "Epoch 3/300\n",
      "30000/30000 [==============================] - 27s 909us/step - loss: 0.2563 - val_loss: 0.2569\n",
      "Epoch 4/300\n",
      "30000/30000 [==============================] - 27s 902us/step - loss: 0.2546 - val_loss: 0.2588\n",
      "Epoch 5/300\n",
      "30000/30000 [==============================] - 27s 902us/step - loss: 0.2530 - val_loss: 0.2526\n",
      "Epoch 6/300\n",
      "30000/30000 [==============================] - 27s 902us/step - loss: 0.2522 - val_loss: 0.2538\n",
      "Epoch 7/300\n",
      "30000/30000 [==============================] - 27s 902us/step - loss: 0.2511 - val_loss: 0.2517\n",
      "Epoch 8/300\n",
      "30000/30000 [==============================] - 27s 902us/step - loss: 0.2506 - val_loss: 0.2506\n",
      "Epoch 9/300\n",
      "30000/30000 [==============================] - 27s 902us/step - loss: 0.2504 - val_loss: 0.2556\n",
      "Epoch 10/300\n",
      "30000/30000 [==============================] - 28s 917us/step - loss: 0.2498 - val_loss: 0.2492\n",
      "Epoch 11/300\n",
      "30000/30000 [==============================] - 27s 906us/step - loss: 0.2491 - val_loss: 0.2491\n",
      "Epoch 12/300\n",
      "30000/30000 [==============================] - 27s 906us/step - loss: 0.2490 - val_loss: 0.2493\n",
      "Epoch 13/300\n",
      "30000/30000 [==============================] - 27s 907us/step - loss: 0.2484 - val_loss: 0.2487\n",
      "Epoch 14/300\n",
      "30000/30000 [==============================] - 27s 906us/step - loss: 0.2484 - val_loss: 0.2490\n",
      "Epoch 15/300\n",
      "30000/30000 [==============================] - 27s 908us/step - loss: 0.2479 - val_loss: 0.2491\n",
      "Epoch 16/300\n",
      "30000/30000 [==============================] - 27s 909us/step - loss: 0.2477 - val_loss: 0.2480\n",
      "Epoch 17/300\n",
      "30000/30000 [==============================] - 27s 907us/step - loss: 0.2476 - val_loss: 0.2478\n",
      "Epoch 18/300\n",
      "30000/30000 [==============================] - 27s 907us/step - loss: 0.2474 - val_loss: 0.2475\n",
      "Epoch 19/300\n",
      "30000/30000 [==============================] - 27s 907us/step - loss: 0.2471 - val_loss: 0.2471\n",
      "Epoch 20/300\n",
      "30000/30000 [==============================] - 27s 909us/step - loss: 0.2469 - val_loss: 0.2472\n",
      "Epoch 21/300\n",
      "30000/30000 [==============================] - 27s 914us/step - loss: 0.2468 - val_loss: 0.2470\n",
      "Epoch 22/300\n",
      "30000/30000 [==============================] - 27s 909us/step - loss: 0.2469 - val_loss: 0.2469\n",
      "Epoch 23/300\n",
      "30000/30000 [==============================] - 27s 909us/step - loss: 0.2465 - val_loss: 0.2474\n",
      "Epoch 24/300\n",
      "30000/30000 [==============================] - 27s 908us/step - loss: 0.2465 - val_loss: 0.2470\n",
      "Epoch 25/300\n",
      "30000/30000 [==============================] - 27s 909us/step - loss: 0.2463 - val_loss: 0.2466\n",
      "Epoch 26/300\n",
      "30000/30000 [==============================] - 27s 909us/step - loss: 0.2463 - val_loss: 0.2468\n",
      "Epoch 27/300\n",
      "30000/30000 [==============================] - 27s 909us/step - loss: 0.2462 - val_loss: 0.2471\n",
      "Epoch 28/300\n",
      "30000/30000 [==============================] - 27s 909us/step - loss: 0.2460 - val_loss: 0.2462\n",
      "Epoch 29/300\n",
      "30000/30000 [==============================] - 27s 909us/step - loss: 0.2460 - val_loss: 0.2463\n",
      "Epoch 30/300\n",
      "30000/30000 [==============================] - 27s 910us/step - loss: 0.2458 - val_loss: 0.2463\n",
      "Epoch 31/300\n",
      "30000/30000 [==============================] - 27s 912us/step - loss: 0.2459 - val_loss: 0.2464\n",
      "Epoch 32/300\n",
      "30000/30000 [==============================] - 27s 910us/step - loss: 0.2457 - val_loss: 0.2468\n",
      "Epoch 33/300\n",
      "30000/30000 [==============================] - 27s 914us/step - loss: 0.2457 - val_loss: 0.2471\n",
      "Epoch 34/300\n",
      "30000/30000 [==============================] - 27s 913us/step - loss: 0.2457 - val_loss: 0.2463\n",
      "Epoch 35/300\n",
      "30000/30000 [==============================] - 27s 910us/step - loss: 0.2457 - val_loss: 0.2460\n",
      "Epoch 36/300\n",
      "30000/30000 [==============================] - 27s 911us/step - loss: 0.2455 - val_loss: 0.2463\n",
      "Epoch 37/300\n",
      "30000/30000 [==============================] - 27s 909us/step - loss: 0.2456 - val_loss: 0.2460\n",
      "Epoch 38/300\n",
      "30000/30000 [==============================] - 27s 910us/step - loss: 0.2453 - val_loss: 0.2458\n",
      "Epoch 39/300\n",
      "30000/30000 [==============================] - 27s 910us/step - loss: 0.2454 - val_loss: 0.2461\n",
      "Epoch 40/300\n",
      "30000/30000 [==============================] - 27s 911us/step - loss: 0.2453 - val_loss: 0.2459\n",
      "Epoch 41/300\n",
      "30000/30000 [==============================] - 27s 909us/step - loss: 0.2452 - val_loss: 0.2460\n",
      "Epoch 42/300\n",
      "30000/30000 [==============================] - 27s 910us/step - loss: 0.2452 - val_loss: 0.2458\n",
      "Epoch 43/300\n",
      "30000/30000 [==============================] - 27s 909us/step - loss: 0.2451 - val_loss: 0.2459\n",
      "Epoch 44/300\n",
      "30000/30000 [==============================] - 27s 911us/step - loss: 0.2451 - val_loss: 0.2457\n",
      "Epoch 45/300\n",
      "30000/30000 [==============================] - 27s 910us/step - loss: 0.2450 - val_loss: 0.2459\n",
      "Epoch 46/300\n",
      "30000/30000 [==============================] - 27s 909us/step - loss: 0.2450 - val_loss: 0.2458\n",
      "Epoch 47/300\n",
      "30000/30000 [==============================] - 27s 910us/step - loss: 0.2451 - val_loss: 0.2459\n",
      "Epoch 48/300\n",
      "30000/30000 [==============================] - 27s 910us/step - loss: 0.2450 - val_loss: 0.2459\n",
      "Epoch 49/300\n",
      "30000/30000 [==============================] - 27s 909us/step - loss: 0.2449 - val_loss: 0.2458\n",
      "Epoch 50/300\n",
      "30000/30000 [==============================] - 27s 914us/step - loss: 0.2449 - val_loss: 0.2457\n",
      "Epoch 51/300\n",
      "30000/30000 [==============================] - 27s 908us/step - loss: 0.2448 - val_loss: 0.2455\n",
      "Epoch 52/300\n",
      "30000/30000 [==============================] - 27s 908us/step - loss: 0.2447 - val_loss: 0.2456\n",
      "Epoch 53/300\n",
      "30000/30000 [==============================] - 27s 904us/step - loss: 0.2447 - val_loss: 0.2455\n",
      "Epoch 54/300\n",
      "30000/30000 [==============================] - 27s 905us/step - loss: 0.2447 - val_loss: 0.2455\n",
      "Epoch 55/300\n",
      "30000/30000 [==============================] - 27s 905us/step - loss: 0.2446 - val_loss: 0.2453\n",
      "Epoch 56/300\n",
      "30000/30000 [==============================] - 27s 904us/step - loss: 0.2446 - val_loss: 0.2454\n",
      "Epoch 57/300\n",
      "30000/30000 [==============================] - 27s 904us/step - loss: 0.2446 - val_loss: 0.2457\n",
      "Epoch 58/300\n",
      "30000/30000 [==============================] - 27s 904us/step - loss: 0.2446 - val_loss: 0.2461\n",
      "Epoch 59/300\n",
      "30000/30000 [==============================] - 27s 905us/step - loss: 0.2445 - val_loss: 0.2453\n",
      "Epoch 60/300\n",
      "30000/30000 [==============================] - 27s 905us/step - loss: 0.2445 - val_loss: 0.2452\n",
      "Epoch 61/300\n",
      "30000/30000 [==============================] - 27s 905us/step - loss: 0.2444 - val_loss: 0.2453\n",
      "Epoch 62/300\n",
      "30000/30000 [==============================] - 27s 905us/step - loss: 0.2445 - val_loss: 0.2452\n",
      "Epoch 63/300\n",
      "30000/30000 [==============================] - 27s 906us/step - loss: 0.2444 - val_loss: 0.2454\n",
      "Epoch 64/300\n",
      "30000/30000 [==============================] - 27s 905us/step - loss: 0.2444 - val_loss: 0.2454\n",
      "Epoch 65/300\n",
      "30000/30000 [==============================] - 27s 906us/step - loss: 0.2443 - val_loss: 0.2453\n"
     ]
    }
   ],
   "source": [
    "early_stopper = keras.callbacks.EarlyStopping(monitor='val_loss', \n",
    "                                              min_delta=0.001, \n",
    "                                              patience=30, \n",
    "                                              verbose=0, \n",
    "                                              mode='auto', \n",
    "                                              restore_best_weights=True)\n",
    "history = autoencoder.fit(x_train, x_train,\n",
    "                  epochs=300,\n",
    "                  batch_size=128,\n",
    "                  shuffle=True,\n",
    "                  validation_data=(x_valid, x_valid),\n",
    "                  callbacks=[early_stopper]\n",
    "                  )"
   ]
  },
  {
   "cell_type": "markdown",
   "metadata": {},
   "source": [
    "Здесь плавный график ошибки на тренировке, но на валидации вырос разброс. Под конец обучения ошибка ниже, чем в случае без регуляризации."
   ]
  },
  {
   "cell_type": "code",
   "execution_count": 45,
   "metadata": {},
   "outputs": [
    {
     "data": {
      "image/png": "[encoded data removed]",
      "text/plain": [
       "<Figure size 432x288 with 1 Axes>"
      ]
     },
     "metadata": {},
     "output_type": "display_data"
    }
   ],
   "source": [
    "plt.plot(history.history[\"loss\"], label=\"loss\")\n",
    "plt.plot(history.history[\"val_loss\"], label=\"val_loss\")\n",
    "plt.legend()\n",
    "plt.show()"
   ]
  },
  {
   "cell_type": "code",
   "execution_count": 47,
   "metadata": {},
   "outputs": [],
   "source": [
    "autoencoder.save_weights(\"autoencoder_reg_weights.h5\")"
   ]
  },
  {
   "cell_type": "markdown",
   "metadata": {},
   "source": [
    "Результат теста. Здесь вроде изображения более четкие."
   ]
  },
  {
   "cell_type": "code",
   "execution_count": 46,
   "metadata": {},
   "outputs": [
    {
     "data": {
      "image/png": "[encoded data removed]",
      "text/plain": [
       "<Figure size 1296x144 with 30 Axes>"
      ]
     },
     "metadata": {},
     "output_type": "display_data"
    }
   ],
   "source": [
    "decoded_imgs = autoencoder.predict(x_test)\n",
    "\n",
    "n = 15\n",
    "plt.figure(figsize=(18,2))\n",
    "\n",
    "for i in range(n):\n",
    "    ax = plt.subplot(2, n, i+1)\n",
    "    plt.imshow(x_test[i].reshape(28, 28), cmap=\"Greys\")    \n",
    "    ax.get_xaxis().set_visible(False)\n",
    "    ax.get_yaxis().set_visible(False)\n",
    "    \n",
    "    ax = plt.subplot(2, n, i + n+1)\n",
    "    plt.imshow(decoded_imgs[i].reshape(28, 28), cmap=\"Greys\")\n",
    "    ax.get_xaxis().set_visible(False)\n",
    "    ax.get_yaxis().set_visible(False)\n",
    "\n",
    "plt.show()"
   ]
  }
 ],
 "metadata": {
  "kernelspec": {
   "display_name": "Python 3",
   "language": "python",
   "name": "python3"
  },
  "language_info": {
   "codemirror_mode": {
    "name": "ipython",
    "version": 3
   },
   "file_extension": ".py",
   "mimetype": "text/x-python",
   "name": "python",
   "nbconvert_exporter": "python",
   "pygments_lexer": "ipython3",
   "version": "3.6.5"
  }
 },
 "nbformat": 4,
 "nbformat_minor": 2
}
