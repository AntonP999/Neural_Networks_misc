{
 "cells": [
  {
   "cell_type": "code",
   "execution_count": 1,
   "metadata": {},
   "outputs": [],
   "source": [
    "import torch\n",
    "from torch import utils\n",
    "from torchvision import datasets, transforms\n",
    "\n",
    "import matplotlib\n",
    "import matplotlib.pyplot as plt\n",
    "import numpy as np\n",
    "%matplotlib inline"
   ]
  },
  {
   "cell_type": "code",
   "execution_count": 2,
   "metadata": {},
   "outputs": [],
   "source": [
    "def plot_mnist(images, shape):\n",
    "    fig = plt.figure(figsize=shape[::-1], dpi=80)\n",
    "    for j in range(1, len(images) + 1):\n",
    "        ax = fig.add_subplot(shape[0], shape[1], j)\n",
    "        ax.matshow(images[j - 1][0], cmap = matplotlib.cm.binary)\n",
    "        plt.xticks(np.array([]))\n",
    "        plt.yticks(np.array([]))\n",
    "    plt.show()"
   ]
  },
  {
   "cell_type": "code",
   "execution_count": 3,
   "metadata": {},
   "outputs": [],
   "source": [
    "path='./MNIST_data'"
   ]
  },
  {
   "cell_type": "code",
   "execution_count": 4,
   "metadata": {},
   "outputs": [],
   "source": [
    "class StandardTransformer():\n",
    "    def __init__(self):\n",
    "        pass\n",
    "    \n",
    "    def __call__(self, tensor):\n",
    "        mu = torch.mean(tensor)\n",
    "        sigma = torch.std(tensor)\n",
    "        return (tensor-mu)/sigma"
   ]
  },
  {
   "cell_type": "code",
   "execution_count": 5,
   "metadata": {},
   "outputs": [],
   "source": [
    "mnist_transform = transforms.Compose([\n",
    "                transforms.ToTensor(),\n",
    "                StandardTransformer(),\n",
    "           ])"
   ]
  },
  {
   "cell_type": "code",
   "execution_count": 6,
   "metadata": {},
   "outputs": [],
   "source": [
    "train_data = datasets.MNIST(path, train=True, download=True, transform=mnist_transform)\n",
    "test_data = datasets.MNIST(path, train=False, download=True, transform=transforms.ToTensor())"
   ]
  },
  {
   "cell_type": "code",
   "execution_count": 21,
   "metadata": {},
   "outputs": [
    {
     "data": {
      "text/plain": [
       "tensor([[[-4.4051e-01, -4.4051e-01, -4.4051e-01, -4.4051e-01, -4.4051e-01,\n",
       "          -4.4051e-01, -4.4051e-01, -4.4051e-01, -4.4051e-01, -4.4051e-01,\n",
       "          -4.4051e-01, -4.4051e-01, -4.4051e-01, -4.4051e-01, -4.4051e-01,\n",
       "          -4.4051e-01, -4.4051e-01, -4.4051e-01, -4.4051e-01, -4.4051e-01,\n",
       "          -4.4051e-01, -4.4051e-01, -4.4051e-01, -4.4051e-01, -4.4051e-01,\n",
       "          -4.4051e-01, -4.4051e-01, -4.4051e-01],\n",
       "         [-4.4051e-01, -4.4051e-01, -4.4051e-01, -4.4051e-01, -4.4051e-01,\n",
       "          -4.4051e-01, -4.4051e-01, -4.4051e-01, -4.4051e-01, -4.4051e-01,\n",
       "          -4.4051e-01, -4.4051e-01, -4.4051e-01, -4.4051e-01, -4.4051e-01,\n",
       "          -4.4051e-01, -4.4051e-01, -4.4051e-01, -4.4051e-01, -4.4051e-01,\n",
       "          -4.4051e-01, -4.4051e-01, -4.4051e-01, -4.4051e-01, -4.4051e-01,\n",
       "          -4.4051e-01, -4.4051e-01, -4.4051e-01],\n",
       "         [-4.4051e-01, -4.4051e-01, -4.4051e-01, -4.4051e-01, -4.4051e-01,\n",
       "          -4.4051e-01, -4.4051e-01, -4.4051e-01, -4.4051e-01, -4.4051e-01,\n",
       "          -4.4051e-01, -4.4051e-01, -4.4051e-01, -4.4051e-01, -4.4051e-01,\n",
       "          -4.4051e-01, -4.4051e-01, -4.4051e-01, -4.4051e-01, -4.4051e-01,\n",
       "          -4.4051e-01, -4.4051e-01, -4.4051e-01, -4.4051e-01, -4.4051e-01,\n",
       "          -4.4051e-01, -4.4051e-01, -4.4051e-01],\n",
       "         [-4.4051e-01, -4.4051e-01, -4.4051e-01, -4.4051e-01, -4.4051e-01,\n",
       "          -4.4051e-01, -4.4051e-01, -4.4051e-01, -4.4051e-01, -4.4051e-01,\n",
       "          -4.4051e-01, -4.4051e-01, -4.4051e-01, -4.4051e-01, -4.4051e-01,\n",
       "          -4.4051e-01, -4.4051e-01, -4.4051e-01, -4.4051e-01, -4.4051e-01,\n",
       "          -4.4051e-01, -4.4051e-01, -4.4051e-01, -4.4051e-01, -4.4051e-01,\n",
       "          -4.4051e-01, -4.4051e-01, -4.4051e-01],\n",
       "         [-4.4051e-01, -4.4051e-01, -4.4051e-01, -4.4051e-01, -4.4051e-01,\n",
       "          -4.4051e-01, -4.4051e-01, -4.4051e-01, -4.4051e-01, -4.4051e-01,\n",
       "          -4.4051e-01, -4.4051e-01, -4.4051e-01, -4.4051e-01, -4.4051e-01,\n",
       "          -4.4051e-01, -4.4051e-01, -4.4051e-01, -4.4051e-01, -4.4051e-01,\n",
       "          -4.4051e-01, -4.4051e-01, -4.4051e-01, -4.4051e-01, -4.4051e-01,\n",
       "          -4.4051e-01, -4.4051e-01, -4.4051e-01],\n",
       "         [-4.4051e-01, -4.4051e-01, -4.4051e-01, -4.4051e-01, -4.4051e-01,\n",
       "          -4.4051e-01, -4.4051e-01, -4.4051e-01, -4.4051e-01, -4.4051e-01,\n",
       "          -4.4051e-01, -4.4051e-01, -4.0287e-01, -2.1466e-01, -2.1466e-01,\n",
       "          -2.1466e-01,  1.1404e+00,  1.2659e+00,  1.7552e+00, -1.1428e-01,\n",
       "           1.6423e+00,  2.7590e+00,  2.6586e+00,  1.1530e+00, -4.4051e-01,\n",
       "          -4.4051e-01, -4.4051e-01, -4.4051e-01],\n",
       "         [-4.4051e-01, -4.4051e-01, -4.4051e-01, -4.4051e-01, -4.4051e-01,\n",
       "          -4.4051e-01, -4.4051e-01, -4.4051e-01, -6.4096e-02,  1.1187e-02,\n",
       "           7.3892e-01,  1.4917e+00,  1.6925e+00,  2.7339e+00,  2.7339e+00,\n",
       "           2.7339e+00,  2.7339e+00,  2.7339e+00,  2.3826e+00,  1.7176e+00,\n",
       "           2.7339e+00,  2.5959e+00,  2.0062e+00,  3.6251e-01, -4.4051e-01,\n",
       "          -4.4051e-01, -4.4051e-01, -4.4051e-01],\n",
       "         [-4.4051e-01, -4.4051e-01, -4.4051e-01, -4.4051e-01, -4.4051e-01,\n",
       "          -4.4051e-01, -4.4051e-01,  1.7430e-01,  2.5457e+00,  2.7339e+00,\n",
       "           2.7339e+00,  2.7339e+00,  2.7339e+00,  2.7339e+00,  2.7339e+00,\n",
       "           2.7339e+00,  2.7339e+00,  2.7088e+00,  7.2637e-01,  5.8835e-01,\n",
       "           5.8835e-01,  2.6213e-01,  4.8828e-02, -4.4051e-01, -4.4051e-01,\n",
       "          -4.4051e-01, -4.4051e-01, -4.4051e-01],\n",
       "         [-4.4051e-01, -4.4051e-01, -4.4051e-01, -4.4051e-01, -4.4051e-01,\n",
       "          -4.4051e-01, -4.4051e-01, -2.1466e-01,  2.3073e+00,  2.7339e+00,\n",
       "           2.7339e+00,  2.7339e+00,  2.7339e+00,  2.7339e+00,  2.0438e+00,\n",
       "           1.8431e+00,  2.6586e+00,  2.5833e+00, -4.4051e-01, -4.4051e-01,\n",
       "          -4.4051e-01, -4.4051e-01, -4.4051e-01, -4.4051e-01, -4.4051e-01,\n",
       "          -4.4051e-01, -4.4051e-01, -4.4051e-01],\n",
       "         [-4.4051e-01, -4.4051e-01, -4.4051e-01, -4.4051e-01, -4.4051e-01,\n",
       "          -4.4051e-01, -4.4051e-01, -4.4051e-01,  5.6326e-01,  1.5168e+00,\n",
       "           9.0203e-01,  2.7339e+00,  2.7339e+00,  2.1316e+00, -3.0249e-01,\n",
       "          -4.4051e-01,  9.9017e-02,  1.4917e+00, -4.4051e-01, -4.4051e-01,\n",
       "          -4.4051e-01, -4.4051e-01, -4.4051e-01, -4.4051e-01, -4.4051e-01,\n",
       "          -4.4051e-01, -4.4051e-01, -4.4051e-01],\n",
       "         [-4.4051e-01, -4.4051e-01, -4.4051e-01, -4.4051e-01, -4.4051e-01,\n",
       "          -4.4051e-01, -4.4051e-01, -4.4051e-01, -4.4051e-01, -2.6485e-01,\n",
       "          -4.2796e-01,  1.4917e+00,  2.7339e+00,  6.8873e-01, -4.4051e-01,\n",
       "          -4.4051e-01, -4.4051e-01, -4.4051e-01, -4.4051e-01, -4.4051e-01,\n",
       "          -4.4051e-01, -4.4051e-01, -4.4051e-01, -4.4051e-01, -4.4051e-01,\n",
       "          -4.4051e-01, -4.4051e-01, -4.4051e-01],\n",
       "         [-4.4051e-01, -4.4051e-01, -4.4051e-01, -4.4051e-01, -4.4051e-01,\n",
       "          -4.4051e-01, -4.4051e-01, -4.4051e-01, -4.4051e-01, -4.4051e-01,\n",
       "          -4.4051e-01,  1.3035e+00,  2.7339e+00,  1.9434e+00, -4.1541e-01,\n",
       "          -4.4051e-01, -4.4051e-01, -4.4051e-01, -4.4051e-01, -4.4051e-01,\n",
       "          -4.4051e-01, -4.4051e-01, -4.4051e-01, -4.4051e-01, -4.4051e-01,\n",
       "          -4.4051e-01, -4.4051e-01, -4.4051e-01],\n",
       "         [-4.4051e-01, -4.4051e-01, -4.4051e-01, -4.4051e-01, -4.4051e-01,\n",
       "          -4.4051e-01, -4.4051e-01, -4.4051e-01, -4.4051e-01, -4.4051e-01,\n",
       "          -4.4051e-01, -3.0249e-01,  1.9434e+00,  2.7339e+00,  4.3779e-01,\n",
       "          -4.4051e-01, -4.4051e-01, -4.4051e-01, -4.4051e-01, -4.4051e-01,\n",
       "          -4.4051e-01, -4.4051e-01, -4.4051e-01, -4.4051e-01, -4.4051e-01,\n",
       "          -4.4051e-01, -4.4051e-01, -4.4051e-01],\n",
       "         [-4.4051e-01, -4.4051e-01, -4.4051e-01, -4.4051e-01, -4.4051e-01,\n",
       "          -4.4051e-01, -4.4051e-01, -4.4051e-01, -4.4051e-01, -4.4051e-01,\n",
       "          -4.4051e-01, -4.4051e-01, -1.3603e-03,  2.5833e+00,  2.3826e+00,\n",
       "           1.5670e+00,  9.1458e-01, -4.2796e-01, -4.4051e-01, -4.4051e-01,\n",
       "          -4.4051e-01, -4.4051e-01, -4.4051e-01, -4.4051e-01, -4.4051e-01,\n",
       "          -4.4051e-01, -4.4051e-01, -4.4051e-01],\n",
       "         [-4.4051e-01, -4.4051e-01, -4.4051e-01, -4.4051e-01, -4.4051e-01,\n",
       "          -4.4051e-01, -4.4051e-01, -4.4051e-01, -4.4051e-01, -4.4051e-01,\n",
       "          -4.4051e-01, -4.4051e-01, -4.4051e-01,  5.7581e-01,  2.5708e+00,\n",
       "           2.7339e+00,  2.7339e+00,  1.0526e+00, -1.2683e-01, -4.4051e-01,\n",
       "          -4.4051e-01, -4.4051e-01, -4.4051e-01, -4.4051e-01, -4.4051e-01,\n",
       "          -4.4051e-01, -4.4051e-01, -4.4051e-01],\n",
       "         [-4.4051e-01, -4.4051e-01, -4.4051e-01, -4.4051e-01, -4.4051e-01,\n",
       "          -4.4051e-01, -4.4051e-01, -4.4051e-01, -4.4051e-01, -4.4051e-01,\n",
       "          -4.4051e-01, -4.4051e-01, -4.4051e-01, -4.4051e-01,  1.2411e-01,\n",
       "           1.8933e+00,  2.7339e+00,  2.7339e+00,  1.4416e+00, -1.0174e-01,\n",
       "          -4.4051e-01, -4.4051e-01, -4.4051e-01, -4.4051e-01, -4.4051e-01,\n",
       "          -4.4051e-01, -4.4051e-01, -4.4051e-01],\n",
       "         [-4.4051e-01, -4.4051e-01, -4.4051e-01, -4.4051e-01, -4.4051e-01,\n",
       "          -4.4051e-01, -4.4051e-01, -4.4051e-01, -4.4051e-01, -4.4051e-01,\n",
       "          -4.4051e-01, -4.4051e-01, -4.4051e-01, -4.4051e-01, -4.4051e-01,\n",
       "          -2.3976e-01,  7.2637e-01,  2.7214e+00,  2.7339e+00,  1.9058e+00,\n",
       "          -4.4051e-01, -4.4051e-01, -4.4051e-01, -4.4051e-01, -4.4051e-01,\n",
       "          -4.4051e-01, -4.4051e-01, -4.4051e-01],\n",
       "         [-4.4051e-01, -4.4051e-01, -4.4051e-01, -4.4051e-01, -4.4051e-01,\n",
       "          -4.4051e-01, -4.4051e-01, -4.4051e-01, -4.4051e-01, -4.4051e-01,\n",
       "          -4.4051e-01, -4.4051e-01, -4.4051e-01, -4.4051e-01, -4.4051e-01,\n",
       "          -4.4051e-01, -4.4051e-01,  2.6837e+00,  2.7339e+00,  2.6837e+00,\n",
       "           3.6251e-01, -4.4051e-01, -4.4051e-01, -4.4051e-01, -4.4051e-01,\n",
       "          -4.4051e-01, -4.4051e-01, -4.4051e-01],\n",
       "         [-4.4051e-01, -4.4051e-01, -4.4051e-01, -4.4051e-01, -4.4051e-01,\n",
       "          -4.4051e-01, -4.4051e-01, -4.4051e-01, -4.4051e-01, -4.4051e-01,\n",
       "          -4.4051e-01, -4.4051e-01, -4.4051e-01, -4.4051e-01,  1.3666e-01,\n",
       "           1.1906e+00,  1.8556e+00,  2.7339e+00,  2.7339e+00,  2.1567e+00,\n",
       "          -4.1541e-01, -4.4051e-01, -4.4051e-01, -4.4051e-01, -4.4051e-01,\n",
       "          -4.4051e-01, -4.4051e-01, -4.4051e-01],\n",
       "         [-4.4051e-01, -4.4051e-01, -4.4051e-01, -4.4051e-01, -4.4051e-01,\n",
       "          -4.4051e-01, -4.4051e-01, -4.4051e-01, -4.4051e-01, -4.4051e-01,\n",
       "          -4.4051e-01, -4.4051e-01,  4.8828e-02,  1.4165e+00,  2.4328e+00,\n",
       "           2.7339e+00,  2.7339e+00,  2.7339e+00,  2.6963e+00,  1.8431e+00,\n",
       "          -4.4051e-01, -4.4051e-01, -4.4051e-01, -4.4051e-01, -4.4051e-01,\n",
       "          -4.4051e-01, -4.4051e-01, -4.4051e-01],\n",
       "         [-4.4051e-01, -4.4051e-01, -4.4051e-01, -4.4051e-01, -4.4051e-01,\n",
       "          -4.4051e-01, -4.4051e-01, -4.4051e-01, -4.4051e-01, -4.4051e-01,\n",
       "          -1.3938e-01,  9.8986e-01,  2.3324e+00,  2.7339e+00,  2.7339e+00,\n",
       "           2.7339e+00,  2.7339e+00,  2.0815e+00,  5.3817e-01, -4.4051e-01,\n",
       "          -4.4051e-01, -4.4051e-01, -4.4051e-01, -4.4051e-01, -4.4051e-01,\n",
       "          -4.4051e-01, -4.4051e-01, -4.4051e-01],\n",
       "         [-4.4051e-01, -4.4051e-01, -4.4051e-01, -4.4051e-01, -4.4051e-01,\n",
       "          -4.4051e-01, -4.4051e-01, -4.4051e-01, -1.5193e-01,  3.8760e-01,\n",
       "           2.2320e+00,  2.7339e+00,  2.7339e+00,  2.7339e+00,  2.7339e+00,\n",
       "           2.0438e+00,  5.7581e-01, -4.1541e-01, -4.4051e-01, -4.4051e-01,\n",
       "          -4.4051e-01, -4.4051e-01, -4.4051e-01, -4.4051e-01, -4.4051e-01,\n",
       "          -4.4051e-01, -4.4051e-01, -4.4051e-01],\n",
       "         [-4.4051e-01, -4.4051e-01, -4.4051e-01, -4.4051e-01, -4.4051e-01,\n",
       "          -4.4051e-01, -2.1466e-01,  1.7050e+00,  2.3073e+00,  2.7339e+00,\n",
       "           2.7339e+00,  2.7339e+00,  2.7339e+00,  2.0062e+00,  5.6326e-01,\n",
       "          -3.2759e-01, -4.4051e-01, -4.4051e-01, -4.4051e-01, -4.4051e-01,\n",
       "          -4.4051e-01, -4.4051e-01, -4.4051e-01, -4.4051e-01, -4.4051e-01,\n",
       "          -4.4051e-01, -4.4051e-01, -4.4051e-01],\n",
       "         [-4.4051e-01, -4.4051e-01, -4.4051e-01, -4.4051e-01,  2.4958e-01,\n",
       "           1.7176e+00,  2.3951e+00,  2.7339e+00,  2.7339e+00,  2.7339e+00,\n",
       "           2.7339e+00,  2.6210e+00,  1.2283e+00, -3.0249e-01, -4.4051e-01,\n",
       "          -4.4051e-01, -4.4051e-01, -4.4051e-01, -4.4051e-01, -4.4051e-01,\n",
       "          -4.4051e-01, -4.4051e-01, -4.4051e-01, -4.4051e-01, -4.4051e-01,\n",
       "          -4.4051e-01, -4.4051e-01, -4.4051e-01],\n",
       "         [-4.4051e-01, -4.4051e-01, -4.4051e-01, -4.4051e-01,  1.2659e+00,\n",
       "           2.7339e+00,  2.7339e+00,  2.7339e+00,  2.2195e+00,  1.2534e+00,\n",
       "           1.2157e+00, -2.3976e-01, -4.4051e-01, -4.4051e-01, -4.4051e-01,\n",
       "          -4.4051e-01, -4.4051e-01, -4.4051e-01, -4.4051e-01, -4.4051e-01,\n",
       "          -4.4051e-01, -4.4051e-01, -4.4051e-01, -4.4051e-01, -4.4051e-01,\n",
       "          -4.4051e-01, -4.4051e-01, -4.4051e-01],\n",
       "         [-4.4051e-01, -4.4051e-01, -4.4051e-01, -4.4051e-01, -4.4051e-01,\n",
       "          -4.4051e-01, -4.4051e-01, -4.4051e-01, -4.4051e-01, -4.4051e-01,\n",
       "          -4.4051e-01, -4.4051e-01, -4.4051e-01, -4.4051e-01, -4.4051e-01,\n",
       "          -4.4051e-01, -4.4051e-01, -4.4051e-01, -4.4051e-01, -4.4051e-01,\n",
       "          -4.4051e-01, -4.4051e-01, -4.4051e-01, -4.4051e-01, -4.4051e-01,\n",
       "          -4.4051e-01, -4.4051e-01, -4.4051e-01],\n",
       "         [-4.4051e-01, -4.4051e-01, -4.4051e-01, -4.4051e-01, -4.4051e-01,\n",
       "          -4.4051e-01, -4.4051e-01, -4.4051e-01, -4.4051e-01, -4.4051e-01,\n",
       "          -4.4051e-01, -4.4051e-01, -4.4051e-01, -4.4051e-01, -4.4051e-01,\n",
       "          -4.4051e-01, -4.4051e-01, -4.4051e-01, -4.4051e-01, -4.4051e-01,\n",
       "          -4.4051e-01, -4.4051e-01, -4.4051e-01, -4.4051e-01, -4.4051e-01,\n",
       "          -4.4051e-01, -4.4051e-01, -4.4051e-01],\n",
       "         [-4.4051e-01, -4.4051e-01, -4.4051e-01, -4.4051e-01, -4.4051e-01,\n",
       "          -4.4051e-01, -4.4051e-01, -4.4051e-01, -4.4051e-01, -4.4051e-01,\n",
       "          -4.4051e-01, -4.4051e-01, -4.4051e-01, -4.4051e-01, -4.4051e-01,\n",
       "          -4.4051e-01, -4.4051e-01, -4.4051e-01, -4.4051e-01, -4.4051e-01,\n",
       "          -4.4051e-01, -4.4051e-01, -4.4051e-01, -4.4051e-01, -4.4051e-01,\n",
       "          -4.4051e-01, -4.4051e-01, -4.4051e-01]]])"
      ]
     },
     "execution_count": 21,
     "metadata": {},
     "output_type": "execute_result"
    }
   ],
   "source": [
    "train_data[0][0]"
   ]
  },
  {
   "cell_type": "code",
   "execution_count": 22,
   "metadata": {},
   "outputs": [
    {
     "name": "stdout",
     "output_type": "stream",
     "text": [
      "Tensor mean: 0.000\n",
      "Tensor std: 1.000\n"
     ]
    }
   ],
   "source": [
    "print(\"Tensor mean: {0:.3f}\".format(torch.mean(train_data[0][0])))\n",
    "print(\"Tensor std: {0:.3f}\".format(torch.std(train_data[0][0])))"
   ]
  },
  {
   "cell_type": "code",
   "execution_count": 13,
   "metadata": {},
   "outputs": [],
   "source": [
    "images = [train_data[i][0] for i in range(50)]"
   ]
  },
  {
   "cell_type": "code",
   "execution_count": 14,
   "metadata": {},
   "outputs": [
    {
     "data": {
      "image/png": "[encoded data removed]",
      "text/plain": [
       "<Figure size 800x400 with 50 Axes>"
      ]
     },
     "metadata": {},
     "output_type": "display_data"
    }
   ],
   "source": [
    "plot_mnist(images, (5, 10))"
   ]
  },
  {
   "cell_type": "code",
   "execution_count": 23,
   "metadata": {},
   "outputs": [
    {
     "data": {
      "text/plain": [
       "torch.Size([28, 28])"
      ]
     },
     "execution_count": 23,
     "metadata": {},
     "output_type": "execute_result"
    }
   ],
   "source": [
    "images[0][0].shape"
   ]
  },
  {
   "cell_type": "code",
   "execution_count": null,
   "metadata": {},
   "outputs": [],
   "source": [
    "train_loader = utils.data.DataLoader(train_data, batch_size=50, shuffle=True)"
   ]
  },
  {
   "cell_type": "code",
   "execution_count": null,
   "metadata": {},
   "outputs": [],
   "source": [
    "batch_x, batch_y = next(iter(train_loader))"
   ]
  },
  {
   "cell_type": "code",
   "execution_count": null,
   "metadata": {},
   "outputs": [],
   "source": [
    "batch_x.shape"
   ]
  },
  {
   "cell_type": "code",
   "execution_count": null,
   "metadata": {},
   "outputs": [],
   "source": [
    "batch_y"
   ]
  },
  {
   "cell_type": "code",
   "execution_count": null,
   "metadata": {},
   "outputs": [],
   "source": []
  }
 ],
 "metadata": {
  "kernelspec": {
   "display_name": "Python 3",
   "language": "python",
   "name": "python3"
  },
  "language_info": {
   "codemirror_mode": {
    "name": "ipython",
    "version": 3
   },
   "file_extension": ".py",
   "mimetype": "text/x-python",
   "name": "python",
   "nbconvert_exporter": "python",
   "pygments_lexer": "ipython3",
   "version": "3.6.8"
  }
 },
 "nbformat": 4,
 "nbformat_minor": 2
}
